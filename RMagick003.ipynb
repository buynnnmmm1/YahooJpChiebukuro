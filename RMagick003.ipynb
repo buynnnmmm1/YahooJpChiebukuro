{
 "metadata": {
  "name": "",
  "signature": "sha256:03dfcdb247d70c76dea9cca78c08d295e028ec86f1525b5374be025ee6e5cb50"
 },
 "nbformat": 3,
 "nbformat_minor": 0,
 "worksheets": [
  {
   "cells": [
    {
     "cell_type": "code",
     "collapsed": false,
     "input": [
      "#%load_ext rmagic \n",
      "%load_ext rpy2.ipython"
     ],
     "language": "python",
     "metadata": {},
     "outputs": [],
     "prompt_number": 1
    },
    {
     "cell_type": "code",
     "collapsed": false,
     "input": [
      "%%R \n",
      "d<-rnorm(16)\n",
      "d"
     ],
     "language": "python",
     "metadata": {},
     "outputs": [
      {
       "metadata": {},
       "output_type": "display_data",
       "text": [
        " [1]  0.39468519  0.62730249 -0.72626569  0.38715366 -0.34217146 -0.45218747\n",
        " [7]  0.32505057 -1.60190839 -0.27915038 -0.26146203  0.23455586  1.14480098\n",
        "[13]  1.50654552  0.08685429  0.12287627 -2.27982561\n"
       ]
      }
     ],
     "prompt_number": 2
    },
    {
     "cell_type": "code",
     "collapsed": false,
     "input": [
      "%%R \n",
      "e<-fft(d)\n",
      "e"
     ],
     "language": "python",
     "metadata": {},
     "outputs": [
      {
       "metadata": {},
       "output_type": "display_data",
       "text": [
        " [1] -1.113146+0.000000i -0.037386+2.983603i -4.359877-3.405437i\n",
        " [4]  1.778851-3.255919i  1.323692-2.350287i  1.213545-0.631374i\n",
        " [7]  2.262199-5.284710i -0.259667-1.786720i  3.585398+0.000000i\n",
        "[10] -0.259667+1.786720i  2.262199+5.284710i  1.213545+0.631374i\n",
        "[13]  1.323692+2.350287i  1.778851+3.255919i -4.359877+3.405437i\n",
        "[16] -0.037386-2.983603i\n"
       ]
      }
     ],
     "prompt_number": 3
    },
    {
     "cell_type": "code",
     "collapsed": false,
     "input": [
      "%R plot(e)"
     ],
     "language": "python",
     "metadata": {},
     "outputs": [
      {
       "metadata": {},
       "output_type": "display_data",
       "png": "[encoded data removed]"
      }
     ],
     "prompt_number": 4
    },
    {
     "cell_type": "code",
     "collapsed": false,
     "input": [
      "%R n=length(d)"
     ],
     "language": "python",
     "metadata": {},
     "outputs": [
      {
       "metadata": {},
       "output_type": "pyout",
       "prompt_number": 5,
       "text": [
        "<IntVector - Python:0xaccd1a4c / R:0xa0ec2b8>\n",
        "[      16]"
       ]
      }
     ],
     "prompt_number": 5
    },
    {
     "cell_type": "code",
     "collapsed": false,
     "input": [
      "%R d%*%d"
     ],
     "language": "python",
     "metadata": {},
     "outputs": [
      {
       "metadata": {},
       "output_type": "pyout",
       "prompt_number": 6,
       "text": [
        "<Matrix - Python:0xac1976ec / R:0xa1297b8>\n",
        "[13.221757]"
       ]
      }
     ],
     "prompt_number": 6
    },
    {
     "cell_type": "code",
     "collapsed": false,
     "input": [
      "%%R\n",
      "e%*%Conj(e)/n"
     ],
     "language": "python",
     "metadata": {},
     "outputs": [
      {
       "metadata": {},
       "output_type": "display_data",
       "text": [
        "            [,1]\n",
        "[1,] 13.22176+0i\n"
       ]
      }
     ],
     "prompt_number": 7
    },
    {
     "cell_type": "heading",
     "level": 6,
     "metadata": {},
     "source": [
      "#http://stackoverflow.com/questions/23912243/ipython-notebook-and-rmagic-rpy2-cannot-find-module-ri2py-osx-10-8-5-python-2"
     ]
    },
    {
     "cell_type": "heading",
     "level": 6,
     "metadata": {},
     "source": [
      "Rmagic Functions Extension\n",
      "#http://nbviewer.ipython.org/github/ipython/ipython/blob/3607712653c66d63e0d7f13f073bde8c0f209ba8/docs/examples/notebooks/rmagic_extension.ipynb"
     ]
    },
    {
     "cell_type": "heading",
     "level": 6,
     "metadata": {},
     "source": [
      "rmagic\n",
      "#http://ipython.org/ipython-doc/2/config/extensions/rmagic.html"
     ]
    },
    {
     "cell_type": "code",
     "collapsed": false,
     "input": [],
     "language": "python",
     "metadata": {},
     "outputs": []
    }
   ],
   "metadata": {}
  }
 ]
}